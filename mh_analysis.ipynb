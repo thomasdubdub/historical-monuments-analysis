{
 "cells": [
  {
   "cell_type": "markdown",
   "metadata": {},
   "source": [
    "# Analysis of French listed historical monuments"
   ]
  },
  {
   "cell_type": "markdown",
   "metadata": {},
   "source": [
    "#### <br> *Download the open data CSV file [here](https://www.data.gouv.fr/fr/datasets/immeubles-proteges-au-titre-des-monuments-historiques/#_) and rename it mh.csv*"
   ]
  },
  {
   "cell_type": "markdown",
   "metadata": {},
   "source": [
    "#### <br> Load the file with all historical monuments"
   ]
  },
  {
   "cell_type": "code",
   "execution_count": 78,
   "metadata": {},
   "outputs": [
    {
     "data": {
      "text/html": [
       "<div>\n",
       "<style scoped>\n",
       "    .dataframe tbody tr th:only-of-type {\n",
       "        vertical-align: middle;\n",
       "    }\n",
       "\n",
       "    .dataframe tbody tr th {\n",
       "        vertical-align: top;\n",
       "    }\n",
       "\n",
       "    .dataframe thead th {\n",
       "        text-align: right;\n",
       "    }\n",
       "</style>\n",
       "<table border=\"1\" class=\"dataframe\">\n",
       "  <thead>\n",
       "    <tr style=\"text-align: right;\">\n",
       "      <th></th>\n",
       "      <th>Région</th>\n",
       "      <th>Département</th>\n",
       "      <th>Commune</th>\n",
       "      <th>Appellation courante</th>\n",
       "      <th>Siecle</th>\n",
       "      <th>AUTEUR</th>\n",
       "      <th>Précision sur la Protection</th>\n",
       "      <th>Date de Protection</th>\n",
       "      <th>Statut</th>\n",
       "      <th>Adresse</th>\n",
       "      <th>INSEE</th>\n",
       "      <th>AFFECTATAIRE</th>\n",
       "      <th>ETUDE</th>\n",
       "      <th>Référence</th>\n",
       "      <th>Coordonnées INSEE</th>\n",
       "      <th>Code département</th>\n",
       "      <th>Ancienne région</th>\n",
       "      <th>Région normalisée</th>\n",
       "    </tr>\n",
       "  </thead>\n",
       "  <tbody>\n",
       "    <tr>\n",
       "      <th>0</th>\n",
       "      <td>Grand-Est</td>\n",
       "      <td>Ardennes</td>\n",
       "      <td>Remilly-Aillicourt</td>\n",
       "      <td>Château</td>\n",
       "      <td>3e quart 18e siècle</td>\n",
       "      <td>NaN</td>\n",
       "      <td>Façades et toitures du corps de bâtiment centr...</td>\n",
       "      <td>1984/04/03 : inscrit MH</td>\n",
       "      <td>Propriété d'une personne privée</td>\n",
       "      <td>Grande-Rue ()</td>\n",
       "      <td>08357</td>\n",
       "      <td>NaN</td>\n",
       "      <td>Recensement immeubles MH</td>\n",
       "      <td>PA00078484</td>\n",
       "      <td>49.6485856467, 4.99371291541</td>\n",
       "      <td>08</td>\n",
       "      <td>Champagne-Ardenne</td>\n",
       "      <td>champagne ardenne</td>\n",
       "    </tr>\n",
       "    <tr>\n",
       "      <th>1</th>\n",
       "      <td>Grand-Est</td>\n",
       "      <td>Ardennes</td>\n",
       "      <td>Mont-Dieu (Le)</td>\n",
       "      <td>Chartreuse (ancienne)</td>\n",
       "      <td>17e siècle</td>\n",
       "      <td>NaN</td>\n",
       "      <td>Ancienne chartreuse à l'exception des parties ...</td>\n",
       "      <td>1927/02/28 : inscrit MH ; 1946/07/30 : classé MH</td>\n",
       "      <td>Propriété d'une personne privée</td>\n",
       "      <td>NaN</td>\n",
       "      <td>08300</td>\n",
       "      <td>NaN</td>\n",
       "      <td>Recensement immeubles MH</td>\n",
       "      <td>PA00078465</td>\n",
       "      <td>49.5494900352, 4.85937044031</td>\n",
       "      <td>08</td>\n",
       "      <td>Champagne-Ardenne</td>\n",
       "      <td>champagne ardenne</td>\n",
       "    </tr>\n",
       "    <tr>\n",
       "      <th>2</th>\n",
       "      <td>Grand-Est</td>\n",
       "      <td>Ardennes</td>\n",
       "      <td>Hierges</td>\n",
       "      <td>Croix</td>\n",
       "      <td>4e quart 16e siècle</td>\n",
       "      <td>NaN</td>\n",
       "      <td>Croix datée du 1er mai 1579 : inscription par ...</td>\n",
       "      <td>1926/10/18 : inscrit MH</td>\n",
       "      <td>Propriété d'une personne privée</td>\n",
       "      <td>Sur la place Nord du Village</td>\n",
       "      <td>08226</td>\n",
       "      <td>NaN</td>\n",
       "      <td>Recensement immeubles MH</td>\n",
       "      <td>PA00078452</td>\n",
       "      <td>50.0988093717, 4.73380069028</td>\n",
       "      <td>08</td>\n",
       "      <td>Champagne-Ardenne</td>\n",
       "      <td>champagne ardenne</td>\n",
       "    </tr>\n",
       "    <tr>\n",
       "      <th>3</th>\n",
       "      <td>Grand-Est</td>\n",
       "      <td>Ardennes</td>\n",
       "      <td>Hierges</td>\n",
       "      <td>Eglise Saint-Jean-Baptiste</td>\n",
       "      <td>4e quart 16e siècle</td>\n",
       "      <td>NaN</td>\n",
       "      <td>Mur de soutènement du cimetière (cad. A 63) : ...</td>\n",
       "      <td>1987/06/09 : inscrit MH ; 1993/02/11 : classé MH</td>\n",
       "      <td>Propriété de la commune</td>\n",
       "      <td>NaN</td>\n",
       "      <td>08226</td>\n",
       "      <td>NaN</td>\n",
       "      <td>Recensement immeubles MH</td>\n",
       "      <td>PA00078453</td>\n",
       "      <td>50.0988093717, 4.73380069028</td>\n",
       "      <td>08</td>\n",
       "      <td>Champagne-Ardenne</td>\n",
       "      <td>champagne ardenne</td>\n",
       "    </tr>\n",
       "    <tr>\n",
       "      <th>4</th>\n",
       "      <td>Grand-Est</td>\n",
       "      <td>Ardennes</td>\n",
       "      <td>Novy-Chevrières</td>\n",
       "      <td>Eglise Sainte-Catherine, dite aussi Eglise Sai...</td>\n",
       "      <td>3e quart 17e siècle;18e siècle</td>\n",
       "      <td>NaN</td>\n",
       "      <td>Eglise : classement par arrêté du 16 août 1912</td>\n",
       "      <td>1912/08/16 : classé MH</td>\n",
       "      <td>propriété de la commune</td>\n",
       "      <td>NaN</td>\n",
       "      <td>08330</td>\n",
       "      <td>NaN</td>\n",
       "      <td>Recensement immeubles MH</td>\n",
       "      <td>PA00078479</td>\n",
       "      <td>49.5461151318, 4.44233077955</td>\n",
       "      <td>08</td>\n",
       "      <td>Champagne-Ardenne</td>\n",
       "      <td>champagne ardenne</td>\n",
       "    </tr>\n",
       "  </tbody>\n",
       "</table>\n",
       "</div>"
      ],
      "text/plain": [
       "      Région Département             Commune  \\\n",
       "0  Grand-Est    Ardennes  Remilly-Aillicourt   \n",
       "1  Grand-Est    Ardennes      Mont-Dieu (Le)   \n",
       "2  Grand-Est    Ardennes             Hierges   \n",
       "3  Grand-Est    Ardennes             Hierges   \n",
       "4  Grand-Est    Ardennes     Novy-Chevrières   \n",
       "\n",
       "                                Appellation courante  \\\n",
       "0                                            Château   \n",
       "1                              Chartreuse (ancienne)   \n",
       "2                                              Croix   \n",
       "3                         Eglise Saint-Jean-Baptiste   \n",
       "4  Eglise Sainte-Catherine, dite aussi Eglise Sai...   \n",
       "\n",
       "                           Siecle AUTEUR  \\\n",
       "0             3e quart 18e siècle    NaN   \n",
       "1                      17e siècle    NaN   \n",
       "2             4e quart 16e siècle    NaN   \n",
       "3             4e quart 16e siècle    NaN   \n",
       "4  3e quart 17e siècle;18e siècle    NaN   \n",
       "\n",
       "                         Précision sur la Protection  \\\n",
       "0  Façades et toitures du corps de bâtiment centr...   \n",
       "1  Ancienne chartreuse à l'exception des parties ...   \n",
       "2  Croix datée du 1er mai 1579 : inscription par ...   \n",
       "3  Mur de soutènement du cimetière (cad. A 63) : ...   \n",
       "4     Eglise : classement par arrêté du 16 août 1912   \n",
       "\n",
       "                                 Date de Protection  \\\n",
       "0                           1984/04/03 : inscrit MH   \n",
       "1  1927/02/28 : inscrit MH ; 1946/07/30 : classé MH   \n",
       "2                           1926/10/18 : inscrit MH   \n",
       "3  1987/06/09 : inscrit MH ; 1993/02/11 : classé MH   \n",
       "4                            1912/08/16 : classé MH   \n",
       "\n",
       "                            Statut                       Adresse  INSEE  \\\n",
       "0  Propriété d'une personne privée                 Grande-Rue ()  08357   \n",
       "1  Propriété d'une personne privée                           NaN  08300   \n",
       "2  Propriété d'une personne privée  Sur la place Nord du Village  08226   \n",
       "3          Propriété de la commune                           NaN  08226   \n",
       "4          propriété de la commune                           NaN  08330   \n",
       "\n",
       "  AFFECTATAIRE                     ETUDE   Référence  \\\n",
       "0          NaN  Recensement immeubles MH  PA00078484   \n",
       "1          NaN  Recensement immeubles MH  PA00078465   \n",
       "2          NaN  Recensement immeubles MH  PA00078452   \n",
       "3          NaN  Recensement immeubles MH  PA00078453   \n",
       "4          NaN  Recensement immeubles MH  PA00078479   \n",
       "\n",
       "              Coordonnées INSEE Code département    Ancienne région  \\\n",
       "0  49.6485856467, 4.99371291541               08  Champagne-Ardenne   \n",
       "1  49.5494900352, 4.85937044031               08  Champagne-Ardenne   \n",
       "2  50.0988093717, 4.73380069028               08  Champagne-Ardenne   \n",
       "3  50.0988093717, 4.73380069028               08  Champagne-Ardenne   \n",
       "4  49.5461151318, 4.44233077955               08  Champagne-Ardenne   \n",
       "\n",
       "   Région normalisée  \n",
       "0  champagne ardenne  \n",
       "1  champagne ardenne  \n",
       "2  champagne ardenne  \n",
       "3  champagne ardenne  \n",
       "4  champagne ardenne  "
      ]
     },
     "execution_count": 78,
     "metadata": {},
     "output_type": "execute_result"
    }
   ],
   "source": [
    "import pandas as pd\n",
    "df = pd.read_csv('mh.csv', sep=';')\n",
    "nb_lines = df['Région'].count()\n",
    "df.head()"
   ]
  },
  {
   "cell_type": "markdown",
   "metadata": {},
   "source": [
    "#### <br> Map to 18 French regions (2016) data (population on 01/01/18 by INSEE)"
   ]
  },
  {
   "cell_type": "code",
   "execution_count": 79,
   "metadata": {},
   "outputs": [
    {
     "name": "stdout",
     "output_type": "stream",
     "text": [
      "45175  historical monuments mapped to 18 French regions (2016) and  16  monuments not mapped (Saint-Pierre-et-Miquelon or input errors)\n"
     ]
    }
   ],
   "source": [
    "regions_dict = {'Ile-de-France':[12011,12246234], 'Auvergne-Rhône-Alpes':[69711,8037059], 'Hauts-De-France':[31813,6023336], \n",
    "                'Nouvelle-Aquitaine':[84061,5994336], 'Occitanie':[72724,5903190], 'Grand-Est':[57433,5548090],\n",
    "                \"Provence-Alpes-Côte d'Azur\":[31400,5065723],'Pays de la Loire':[32082,3787411], 'Normandie':[29906,3342467],\n",
    "                'Bretagne':[27208,3336643], 'Bourgogne-Franche-Comté':[47784,2813289],'Centre-Val de Loire':[39151,2582522],\n",
    "                'Réunion':[2504,865826], 'Guadeloupe':[1628,390704], 'Martinique':[1128,371246],'Corse':[8722,337796],\n",
    "                'Guyane':[83846,281612],'Mayotte':[376,259154]} # surface area, population number\n",
    "df_region = df[df['Région'].isin(regions_dict.keys())]\n",
    "nb_lines_regions = df_region.shape[0]\n",
    "print(nb_lines_regions, \" historical monuments mapped to 18 French regions (2016) and \", nb_lines-nb_lines_regions,\n",
    "     \" monuments not mapped (Saint-Pierre-et-Miquelon or input errors)\")"
   ]
  },
  {
   "cell_type": "markdown",
   "metadata": {},
   "source": [
    "#### <br> Display the number of historical monuments for each of the 18 French regions"
   ]
  },
  {
   "cell_type": "code",
   "execution_count": 80,
   "metadata": {},
   "outputs": [
    {
     "data": {
      "text/plain": [
       "Nouvelle-Aquitaine            6197\n",
       "Occitanie                     4839\n",
       "Auvergne-Rhône-Alpes          4809\n",
       "Grand-Est                     4547\n",
       "Ile-de-France                 3861\n",
       "Bourgogne-Franche-Comté       3653\n",
       "Hauts-De-France               3131\n",
       "Bretagne                      3111\n",
       "Normandie                     3040\n",
       "Centre-Val de Loire           2793\n",
       "Provence-Alpes-Côte d'Azur    2265\n",
       "Pays de la Loire              2119\n",
       "Corse                          316\n",
       "Réunion                        184\n",
       "Martinique                     110\n",
       "Guadeloupe                     110\n",
       "Guyane                          85\n",
       "Mayotte                          5\n",
       "Name: Région, dtype: int64"
      ]
     },
     "execution_count": 80,
     "metadata": {},
     "output_type": "execute_result"
    }
   ],
   "source": [
    "df_region['Région'].value_counts()"
   ]
  },
  {
   "cell_type": "markdown",
   "metadata": {},
   "source": [
    "##### Display the distribution with a pie chart"
   ]
  },
  {
   "cell_type": "code",
   "execution_count": 81,
   "metadata": {},
   "outputs": [
    {
     "data": {
      "image/png": "[encoded data removed]",
      "text/plain": [
       "<matplotlib.figure.Figure at 0x10cccef98>"
      ]
     },
     "metadata": {},
     "output_type": "display_data"
    }
   ],
   "source": [
    "%matplotlib inline\n",
    "from matplotlib import pyplot as plt\n",
    "import numpy as np\n",
    "region_serie = df_region['Région'].value_counts()\n",
    "region_index = region_serie.index.values.tolist()\n",
    "region_count = region_serie.values.tolist()\n",
    "region_percent_list = [x / np.sum(region_count) for x in region_count]\n",
    "plt.pie(region_percent_list, labels=region_index, autopct='%1.1f%%')\n",
    "plt.axis('equal')\n",
    "plt.savefig('regions.png')\n",
    "plt.show()"
   ]
  },
  {
   "cell_type": "markdown",
   "metadata": {},
   "source": [
    "##### *Such a chart can be considered biaised due to the various surface area and population number of regions. Therefore the two following pie charts present the same information taking into account these parameters*"
   ]
  },
  {
   "cell_type": "markdown",
   "metadata": {},
   "source": [
    "##### Distribution taking into account the surface area of regions"
   ]
  },
  {
   "cell_type": "code",
   "execution_count": 82,
   "metadata": {},
   "outputs": [
    {
     "data": {
      "image/png": "[encoded data removed]",
      "text/plain": [
       "<matplotlib.figure.Figure at 0x121b8b198>"
      ]
     },
     "metadata": {},
     "output_type": "display_data"
    }
   ],
   "source": [
    "region_count = [x / regions_dict[y][0] for x,y in zip(region_count,region_index)]\n",
    "region_percent_list = [x / np.sum(region_count) for x in region_count]\n",
    "plt.pie(region_percent_list, labels=region_index, autopct='%1.1f%%')\n",
    "plt.axis('equal')\n",
    "plt.savefig('regions.png')\n",
    "plt.show()"
   ]
  },
  {
   "cell_type": "markdown",
   "metadata": {},
   "source": [
    "##### Distribution taking into account the population number"
   ]
  },
  {
   "cell_type": "code",
   "execution_count": 83,
   "metadata": {},
   "outputs": [
    {
     "data": {
      "image/png": "[encoded data removed]",
      "text/plain": [
       "<matplotlib.figure.Figure at 0x116150278>"
      ]
     },
     "metadata": {},
     "output_type": "display_data"
    }
   ],
   "source": [
    "region_count = [x / regions_dict[y][1] for x,y in zip(region_count,region_index)]\n",
    "region_percent_list = [x / np.sum(region_count) for x in region_count]\n",
    "plt.pie(region_percent_list, labels=region_index, autopct='%1.1f%%')\n",
    "plt.axis('equal')\n",
    "plt.savefig('regions.png')\n",
    "plt.show()"
   ]
  },
  {
   "cell_type": "markdown",
   "metadata": {},
   "source": [
    "#### <br> Top 20 cities where French historical monuments are located"
   ]
  },
  {
   "cell_type": "code",
   "execution_count": 19,
   "metadata": {},
   "outputs": [
    {
     "data": {
      "text/plain": [
       "Bordeaux                    376\n",
       "Rochelle (La)               293\n",
       "Nancy                       262\n",
       "Paris 4e Arrondissement     253\n",
       "Paris 1er Arrondissement    246\n",
       "Lyon                        239\n",
       "Strasbourg                  229\n",
       "Rouen                       228\n",
       "Arras                       227\n",
       "Dijon                       212\n",
       "Lille                       210\n",
       "Toulouse                    206\n",
       "Paris 6e Arrondissement     195\n",
       "Besançon                    191\n",
       "Clermont-Ferrand            178\n",
       "Orléans                     161\n",
       "Avignon                     160\n",
       "Aix-en-Provence             156\n",
       "Tours                       149\n",
       "Paris 7e Arrondissement     143\n",
       "Name: Commune, dtype: int64"
      ]
     },
     "execution_count": 19,
     "metadata": {},
     "output_type": "execute_result"
    }
   ],
   "source": [
    "df['Commune'].value_counts().nlargest(20)"
   ]
  },
  {
   "cell_type": "markdown",
   "metadata": {},
   "source": [
    "#### <br> Types of historical monuments listed"
   ]
  },
  {
   "cell_type": "code",
   "execution_count": 59,
   "metadata": {},
   "outputs": [
    {
     "data": {
      "text/plain": [
       "Maison                  2931\n",
       "Eglise                  2635\n",
       "Immeuble                2308\n",
       "Château                 1193\n",
       "Eglise Saint-Martin      454\n",
       "Eglise Notre-Dame        389\n",
       "Eglise Saint-Pierre      387\n",
       "Hôtel de ville           187\n",
       "Croix                    167\n",
       "Eglise Saint-Etienne     136\n",
       "Name: Appellation courante, dtype: int64"
      ]
     },
     "execution_count": 59,
     "metadata": {},
     "output_type": "execute_result"
    }
   ],
   "source": [
    "df['Appellation courante'].value_counts().nlargest(10)"
   ]
  },
  {
   "cell_type": "markdown",
   "metadata": {},
   "source": [
    "##### What type of monument in a given city (ex: La Rochelle)?"
   ]
  },
  {
   "cell_type": "code",
   "execution_count": 21,
   "metadata": {},
   "outputs": [
    {
     "data": {
      "text/plain": [
       "Maison                                                      236\n",
       "Hôtel                                                         2\n",
       "Maisons                                                       2\n",
       "Immeuble                                                      2\n",
       "Lycée Eugène Fromentin                                        1\n",
       "Hôtel de l'Intendance                                         1\n",
       "Hôtel de ville                                                1\n",
       "Gare                                                          1\n",
       "Clocher Saint-Jean                                            1\n",
       "Porte Royale, avant-porte Royale et remparts avoisinants      1\n",
       "Name: Appellation courante, dtype: int64"
      ]
     },
     "execution_count": 21,
     "metadata": {},
     "output_type": "execute_result"
    }
   ],
   "source": [
    "df[df['Commune'] == 'Rochelle (La)']['Appellation courante'].value_counts().nlargest(10)"
   ]
  },
  {
   "cell_type": "markdown",
   "metadata": {},
   "source": [
    "##### For each region, what type of monument is listed?"
   ]
  },
  {
   "cell_type": "code",
   "execution_count": 22,
   "metadata": {},
   "outputs": [
    {
     "name": "stdout",
     "output_type": "stream",
     "text": [
      "-----------------\n",
      "Auvergne-Rhône-Alpes\n",
      "Maison    299\n",
      "Eglise    213\n",
      "Name: Appellation courante, dtype: int64\n",
      "-----------------\n",
      "Bourgogne-Franche-Comté\n",
      "Eglise    358\n",
      "Maison    272\n",
      "Name: Appellation courante, dtype: int64\n",
      "-----------------\n",
      "Bretagne\n",
      "Maison      309\n",
      "Immeuble     56\n",
      "Name: Appellation courante, dtype: int64\n",
      "-----------------\n",
      "Centre-Val de Loire\n",
      "Maison      260\n",
      "Immeuble     92\n",
      "Name: Appellation courante, dtype: int64\n",
      "-----------------\n",
      "Corse\n",
      "Eglise                5\n",
      "Eglise paroissiale    5\n",
      "Name: Appellation courante, dtype: int64\n",
      "-----------------\n",
      "Grand-Est\n",
      "Maison    488\n",
      "Eglise    440\n",
      "Name: Appellation courante, dtype: int64\n",
      "-----------------\n",
      "Guadeloupe\n",
      "Eglise            4\n",
      "Roches gravées    3\n",
      "Name: Appellation courante, dtype: int64\n",
      "-----------------\n",
      "Guyane\n",
      "Immeuble    5\n",
      "Maison      3\n",
      "Name: Appellation courante, dtype: int64\n",
      "-----------------\n",
      "Hauts-De-France\n",
      "Eglise      446\n",
      "Immeuble    215\n",
      "Name: Appellation courante, dtype: int64\n",
      "-----------------\n",
      "Ile-de-France\n",
      "Immeuble    639\n",
      "Eglise      232\n",
      "Name: Appellation courante, dtype: int64\n",
      "-----------------\n",
      "Martinique\n",
      "Maison    4\n",
      "Eglise    2\n",
      "Name: Appellation courante, dtype: int64\n",
      "-----------------\n",
      "Mayotte\n",
      "Caserne de Petite Terre    1\n",
      "Ancienne usine sucrière    1\n",
      "Name: Appellation courante, dtype: int64\n",
      "-----------------\n",
      "Normandie\n",
      "Eglise    393\n",
      "Maison    166\n",
      "Name: Appellation courante, dtype: int64\n",
      "-----------------\n",
      "Nouvelle-Aquitaine\n",
      "Maison      494\n",
      "Immeuble    250\n",
      "Name: Appellation courante, dtype: int64\n",
      "-----------------\n",
      "Occitanie\n",
      "Château    216\n",
      "Eglise     195\n",
      "Name: Appellation courante, dtype: int64\n",
      "-----------------\n",
      "Pays de la Loire\n",
      "Eglise      201\n",
      "Immeuble     78\n",
      "Name: Appellation courante, dtype: int64\n",
      "-----------------\n",
      "Provence-Alpes-Côte d'Azur\n",
      "Eglise      76\n",
      "Immeuble    65\n",
      "Name: Appellation courante, dtype: int64\n",
      "-----------------\n",
      "Réunion\n",
      "Eglise paroissiale            3\n",
      "Maison dite des Ingénieurs    3\n",
      "Name: Appellation courante, dtype: int64\n"
     ]
    }
   ],
   "source": [
    "for name, group in df_region.groupby('Région'):\n",
    "    print('-----------------')\n",
    "    print(name)\n",
    "    print(group['Appellation courante'].value_counts().nlargest(2))"
   ]
  },
  {
   "cell_type": "markdown",
   "metadata": {},
   "source": [
    "#### <br> Top 10 most listed architects"
   ]
  },
  {
   "cell_type": "code",
   "execution_count": 37,
   "metadata": {},
   "outputs": [
    {
     "data": {
      "text/plain": [
       "Gabriel Jacques (architecte) ; Gabriel Ange-Jacques (architecte)                              116\n",
       "Vauban Sébastien Le Prestre de, marquis (ingénieur militaire)                                  55\n",
       "GUIMARD Hector (maître de l'oeuvre)                                                            50\n",
       "Besneville Pierre (architecte)                                                                 26\n",
       "Riquet Pierre-Paul (ingénieur)                                                                 24\n",
       "GUIMARD Hector (architecte)                                                                    23\n",
       "Garengeau (ingénieur)                                                                          20\n",
       "Percilly (architecte)                                                                          13\n",
       "Jeanneret Charles-Edouard, dit : Le Corbusier (architecte) ; Jeanneret Pierre (architecte)     12\n",
       "Jeanneret Charles-Edouard, dit Le Corbusier (architecte) ; Jeanneret Pierre (architecte)       12\n",
       "Name: AUTEUR, dtype: int64"
      ]
     },
     "execution_count": 37,
     "metadata": {},
     "output_type": "execute_result"
    }
   ],
   "source": [
    "df['AUTEUR'].value_counts().nlargest(10)"
   ]
  },
  {
   "cell_type": "markdown",
   "metadata": {},
   "source": [
    "#### <br> The only monument shared by two departments (two regions actually) is:"
   ]
  },
  {
   "cell_type": "code",
   "execution_count": 24,
   "metadata": {},
   "outputs": [
    {
     "data": {
      "text/html": [
       "<div>\n",
       "<style scoped>\n",
       "    .dataframe tbody tr th:only-of-type {\n",
       "        vertical-align: middle;\n",
       "    }\n",
       "\n",
       "    .dataframe tbody tr th {\n",
       "        vertical-align: top;\n",
       "    }\n",
       "\n",
       "    .dataframe thead th {\n",
       "        text-align: right;\n",
       "    }\n",
       "</style>\n",
       "<table border=\"1\" class=\"dataframe\">\n",
       "  <thead>\n",
       "    <tr style=\"text-align: right;\">\n",
       "      <th></th>\n",
       "      <th>Région</th>\n",
       "      <th>Département</th>\n",
       "      <th>Commune</th>\n",
       "      <th>Appellation courante</th>\n",
       "      <th>Siecle</th>\n",
       "      <th>AUTEUR</th>\n",
       "      <th>Précision sur la Protection</th>\n",
       "      <th>Date de Protection</th>\n",
       "      <th>Statut</th>\n",
       "      <th>Adresse</th>\n",
       "      <th>INSEE</th>\n",
       "      <th>AFFECTATAIRE</th>\n",
       "      <th>ETUDE</th>\n",
       "      <th>Référence</th>\n",
       "      <th>Coordonnées INSEE</th>\n",
       "      <th>Code département</th>\n",
       "      <th>Ancienne région</th>\n",
       "      <th>Région normalisée</th>\n",
       "    </tr>\n",
       "  </thead>\n",
       "  <tbody>\n",
       "    <tr>\n",
       "      <th>32996</th>\n",
       "      <td>Rhône-Alpes ; Bourgogne</td>\n",
       "      <td>Rhône-Alpes ; Bourgogne</td>\n",
       "      <td>Saint-Laurent-sur-Saône ; Mâcon</td>\n",
       "      <td>Pont Saint-Laurent, sur la Saône</td>\n",
       "      <td>11e siècle;14e siècle;18e siècle;19e siècle</td>\n",
       "      <td>NaN</td>\n",
       "      <td>Le pont (cad. non cadastré) : classement par a...</td>\n",
       "      <td>1987/07/06 : classé MH</td>\n",
       "      <td>propriété de l'Etat</td>\n",
       "      <td>NaN</td>\n",
       "      <td>01370 ; 71270</td>\n",
       "      <td>ministère chargé de l'équipement et du logement</td>\n",
       "      <td>recensement immeubles MH</td>\n",
       "      <td>PA00116558</td>\n",
       "      <td>NaN</td>\n",
       "      <td>01 ; 71</td>\n",
       "      <td>Rhône-Alpes ; Bourgogne</td>\n",
       "      <td>rhone alpes ; bourgogne</td>\n",
       "    </tr>\n",
       "  </tbody>\n",
       "</table>\n",
       "</div>"
      ],
      "text/plain": [
       "                        Région              Département  \\\n",
       "32996  Rhône-Alpes ; Bourgogne  Rhône-Alpes ; Bourgogne   \n",
       "\n",
       "                               Commune              Appellation courante  \\\n",
       "32996  Saint-Laurent-sur-Saône ; Mâcon  Pont Saint-Laurent, sur la Saône   \n",
       "\n",
       "                                            Siecle AUTEUR  \\\n",
       "32996  11e siècle;14e siècle;18e siècle;19e siècle    NaN   \n",
       "\n",
       "                             Précision sur la Protection  \\\n",
       "32996  Le pont (cad. non cadastré) : classement par a...   \n",
       "\n",
       "           Date de Protection               Statut Adresse          INSEE  \\\n",
       "32996  1987/07/06 : classé MH  propriété de l'Etat     NaN  01370 ; 71270   \n",
       "\n",
       "                                          AFFECTATAIRE  \\\n",
       "32996  ministère chargé de l'équipement et du logement   \n",
       "\n",
       "                          ETUDE   Référence Coordonnées INSEE  \\\n",
       "32996  recensement immeubles MH  PA00116558               NaN   \n",
       "\n",
       "      Code département          Ancienne région        Région normalisée  \n",
       "32996          01 ; 71  Rhône-Alpes ; Bourgogne  rhone alpes ; bourgogne  "
      ]
     },
     "execution_count": 24,
     "metadata": {},
     "output_type": "execute_result"
    }
   ],
   "source": [
    "df[df['Région'].str.contains(' ; ')].head()"
   ]
  },
  {
   "cell_type": "markdown",
   "metadata": {},
   "source": [
    "#### Regions with most churches/cathedrals listed?"
   ]
  },
  {
   "cell_type": "code",
   "execution_count": 94,
   "metadata": {},
   "outputs": [
    {
     "data": {
      "text/plain": [
       "Nouvelle-Aquitaine      1914\n",
       "Occitanie               1159\n",
       "Grand-Est               1116\n",
       "Auvergne-Rhône-Alpes    1035\n",
       "Hauts-De-France          880\n",
       "Name: Région, dtype: int64"
      ]
     },
     "execution_count": 94,
     "metadata": {},
     "output_type": "execute_result"
    }
   ],
   "source": [
    "df[df['Appellation courante'].str.contains('[Eeé]glise')]['Région'].value_counts().nlargest(5)"
   ]
  },
  {
   "cell_type": "code",
   "execution_count": 95,
   "metadata": {},
   "outputs": [
    {
     "name": "stdout",
     "output_type": "stream",
     "text": [
      "150  cathedrals found\n",
      "['Bourges', 'Rodez', 'Cahors', 'Embrun', 'Saint-Malo', 'Châlons-en-Champagne', 'Vaison-la-Romaine', 'Nîmes', 'Chartres', 'Belley', 'Marseille', 'Bayeux', 'Mans (Le)', 'Mâcon', 'Digne-les-Bains', 'Entrevaux', 'Saint-Dié', 'Viviers', 'Saint-Lizier', 'Nice', 'Beauvais', 'Rochelle (La)', 'Moûtiers', 'Rieux-Volvestre', 'Basse-Terre', 'Alet-les-Bains', 'Grenoble', 'Montpellier', 'Laon', 'Saint-Florent', 'Bastia', 'Fréjus', 'Carpentras', 'Limoges', \"Vabres-l'Abbaye\", 'Auch', 'Orléans', 'Saint-Flour', 'Dol-de-Bretagne', 'Valence', 'Vence', 'Tours', 'Noyon', 'Chalon-sur-Saône', 'Boulogne-sur-Mer', 'Blois', 'Toulouse', 'Périgueux', 'Lyon', 'Castres', 'Saint-Bertrand-de-Comminges', 'Paris 4e Arrondissement', 'Lille', 'Grasse', 'Agde', 'Vannes', 'Angers', 'Toul', 'Rennes', 'Bazas', 'Nantes', 'Sélestat', 'Senlis', 'Nevers', 'Saint-Pierre', 'Saint-Omer', 'Apt', 'Perpignan', 'Strasbourg', 'Tende', 'Tréguier', 'Cayenne', 'Lisieux', 'Versailles', 'Dax', 'Moulins', 'Cervione', 'Angoulême', 'Evreux', 'Agen', 'Condom', 'Béziers', 'Pamiers', 'Paris 8e arrondissement', 'Soissons', 'Reims', 'Saint-Pol-de-Léon', \"Aire-sur-l'Adour\", 'Arras', 'Mirepoix', 'Saint-Pons-de-Thomières', 'Auxerre', 'Nancy', 'Nanterre', 'Sées', 'Saint-Jean-de-Maurienne', 'Gap', 'Orange', 'Lescar', 'Cavaillon', 'Poitiers', 'Saint-Denis', 'Carcassonne', 'Annecy', 'Mende', 'Toulon', 'Saint-Claude', 'Sarlat-la-Canéda', 'Bordeaux', 'Lombez', 'Sisteron', 'Chambéry', 'Paris 8e Arrondissement', 'Dijon', 'Avignon', 'Saint-Brieuc', 'Langres', 'Tulle', 'Corbeil-Essonnes', 'Coutances', 'Clermont-Ferrand', 'Quimper', 'Pontoise', 'Montauban', 'Uzès', 'Vienne', 'Besançon', 'Alès', 'Sens', 'Lodève', 'Meaux', 'Autun', 'Troyes', 'Vico', 'Saint-Paul-Trois-Châteaux', 'Tarbes', 'Ajaccio', 'Metz', 'Elne', 'Die', 'Cambrai', 'Laval', 'Verdun', 'Bayonne', 'Fort-de-France', 'Amiens', 'Albi', 'Narbonne', 'Aix-en-Provence', 'Puy-en-Velay (Le)']\n"
     ]
    }
   ],
   "source": [
    "cathe_list = df[df['Appellation courante'].str.contains('[Cc]ath[eé]drale')]['Commune'].value_counts().index.values.tolist()\n",
    "print(len(cathe_list), \" cathedrals found\")\n",
    "print(cathe_list)"
   ]
  },
  {
   "cell_type": "markdown",
   "metadata": {},
   "source": [
    "#### <br> Regions/departments with most castles listed"
   ]
  },
  {
   "cell_type": "code",
   "execution_count": 96,
   "metadata": {},
   "outputs": [
    {
     "data": {
      "text/plain": [
       "Nouvelle-Aquitaine      1013\n",
       "Auvergne-Rhône-Alpes     867\n",
       "Occitanie                731\n",
       "Name: Région, dtype: int64"
      ]
     },
     "execution_count": 96,
     "metadata": {},
     "output_type": "execute_result"
    }
   ],
   "source": [
    "df[df['Appellation courante'].str.contains('[Cc]h[aâ]teau')]['Région'].value_counts().nlargest(3)"
   ]
  },
  {
   "cell_type": "code",
   "execution_count": 97,
   "metadata": {},
   "outputs": [
    {
     "data": {
      "text/plain": [
       "Dordogne          198\n",
       "Allier            162\n",
       "Maine-et-loire    145\n",
       "Indre-et-loire    144\n",
       "Gironde           140\n",
       "Name: Département, dtype: int64"
      ]
     },
     "execution_count": 97,
     "metadata": {},
     "output_type": "execute_result"
    }
   ],
   "source": [
    "df[df['Appellation courante'].str.contains('[Cc]h[aâ]teau')]['Département'].value_counts().nlargest(5)"
   ]
  },
  {
   "cell_type": "markdown",
   "metadata": {},
   "source": [
    "#### <br> Focus on Occitanie"
   ]
  },
  {
   "cell_type": "code",
   "execution_count": 55,
   "metadata": {},
   "outputs": [
    {
     "data": {
      "text/plain": [
       "Toulouse                    206\n",
       "Montpellier                 112\n",
       "Nîmes                        91\n",
       "Narbonne                     64\n",
       "Mirepoix                     58\n",
       "Beaucaire                    51\n",
       "Carcassonne                  48\n",
       "Montauban                    43\n",
       "Cahors                       42\n",
       "Uzès                         42\n",
       "Pézenas                      39\n",
       "Albi                         37\n",
       "Béziers                      35\n",
       "Perpignan                    34\n",
       "Mende                        32\n",
       "Rodez                        30\n",
       "Villefranche-de-Conflent     29\n",
       "Villefranche-de-Rouergue     28\n",
       "Cordes-sur-Ciel              26\n",
       "Auvillar                     26\n",
       "Name: Commune, dtype: int64"
      ]
     },
     "execution_count": 55,
     "metadata": {},
     "output_type": "execute_result"
    }
   ],
   "source": [
    "df[df['Région']=='Occitanie']['Commune'].value_counts().nlargest(20)"
   ]
  },
  {
   "cell_type": "code",
   "execution_count": 26,
   "metadata": {},
   "outputs": [
    {
     "data": {
      "text/plain": [
       "Immeuble                             42\n",
       "Maison en terre cuite de Virebent     4\n",
       "Hôtel                                 3\n",
       "Maison                                3\n",
       "Hôtel Réquy                           1\n",
       "Name: Appellation courante, dtype: int64"
      ]
     },
     "execution_count": 26,
     "metadata": {},
     "output_type": "execute_result"
    }
   ],
   "source": [
    "df[df['Commune']=='Toulouse']['Appellation courante'].value_counts().nlargest(5)"
   ]
  }
 ],
 "metadata": {
  "kernelspec": {
   "display_name": "Python [default]",
   "language": "python",
   "name": "python3"
  },
  "language_info": {
   "codemirror_mode": {
    "name": "ipython",
    "version": 3
   },
   "file_extension": ".py",
   "mimetype": "text/x-python",
   "name": "python",
   "nbconvert_exporter": "python",
   "pygments_lexer": "ipython3",
   "version": "3.6.4"
  }
 },
 "nbformat": 4,
 "nbformat_minor": 2
}
